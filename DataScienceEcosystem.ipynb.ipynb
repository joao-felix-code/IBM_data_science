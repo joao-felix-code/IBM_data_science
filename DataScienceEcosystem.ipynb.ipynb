{
 "cells": [
  {
   "cell_type": "markdown",
   "id": "0e187471-d942-4733-8a77-0d52155327b7",
   "metadata": {},
   "source": [
    "Data Science Tools and Ecosystem"
   ]
  },
  {
   "cell_type": "markdown",
   "id": "d1936217-c6d7-499b-aee4-f5e606e678b1",
   "metadata": {},
   "source": [
    "In this notebook, Data Science Tools and Ecosystem are summarized."
   ]
  },
  {
   "cell_type": "markdown",
   "id": "d71ae914-cc9a-43e9-bb63-3e80de2c45ad",
   "metadata": {},
   "source": [
    "Objectives:\n",
    "- List popular languages for Data Science\n",
    "- Most Libraries Used\n",
    "- Most Data Science Tools Used\n",
    "- Expressions\n",
    "- Convert in Hours"
   ]
  },
  {
   "cell_type": "markdown",
   "id": "d2c27604-00ef-449b-9ebd-ac6c3ca28c1b",
   "metadata": {},
   "source": [
    "Some of the popular languages that Data Scientists use are:\n",
    "1. Python \n",
    "2. R  \n",
    "3. C++          "
   ]
  },
  {
   "cell_type": "markdown",
   "id": "9e1bd2ed-831a-4f8c-8c2e-0ffc5ad58829",
   "metadata": {},
   "source": [
    "Some of the commonly used libraries used by Data Scientists include:\n",
    "\n",
    "1. Numpy\n",
    "2. Panda\n",
    "3. Matplotlib"
   ]
  },
  {
   "cell_type": "markdown",
   "id": "6b40f166-04fa-432d-b7eb-4f1e3ea5e2ba",
   "metadata": {},
   "source": [
    "| Data Science Tools |\n",
    "|--------------------|\n",
    "| TensorFlow |\n",
    "| Apache Spark |\n",
    "| Scikit-learn |"
   ]
  },
  {
   "cell_type": "markdown",
   "id": "97e98e67-0c5c-4c78-94aa-f30952dc60da",
   "metadata": {},
   "source": [
    "### Below are a few examples of evaluating arithmetic expressions in Python ###"
   ]
  },
  {
   "cell_type": "markdown",
   "id": "7aa28137-90ca-43c8-a304-2b16102e4e2e",
   "metadata": {},
   "source": [
    "This a simple arithmetic expression to mutiply then add integers"
   ]
  },
  {
   "cell_type": "code",
   "execution_count": 2,
   "id": "e90fbadb-7172-4217-aeb8-45d59403be20",
   "metadata": {},
   "outputs": [
    {
     "data": {
      "text/plain": [
       "17"
      ]
     },
     "execution_count": 2,
     "metadata": {},
     "output_type": "execute_result"
    }
   ],
   "source": [
    "#(3*4)+5\n",
    "(3*4)+5"
   ]
  },
  {
   "cell_type": "markdown",
   "id": "2698d77c-6d8b-4671-8bb2-4ec01baed90f",
   "metadata": {},
   "source": [
    "This will convert 200 minutes to hours by diving by 60"
   ]
  },
  {
   "cell_type": "code",
   "execution_count": 3,
   "id": "644d3680-94d5-456f-8096-b60e74d3178d",
   "metadata": {},
   "outputs": [
    {
     "data": {
      "text/plain": [
       "3.3333333333333335"
      ]
     },
     "execution_count": 3,
     "metadata": {},
     "output_type": "execute_result"
    }
   ],
   "source": [
    "200/60"
   ]
  },
  {
   "cell_type": "markdown",
   "id": "f5cca503-8175-4efd-82a6-8b34fbc85b0b",
   "metadata": {},
   "source": [
    "## Author ##\n",
    "João"
   ]
  },
  {
   "cell_type": "code",
   "execution_count": null,
   "id": "a7913f65-e9fe-43a9-ae34-f9ca6dd2409f",
   "metadata": {},
   "outputs": [],
   "source": []
  }
 ],
 "metadata": {
  "kernelspec": {
   "display_name": "Python 3 (ipykernel)",
   "language": "python",
   "name": "python3"
  },
  "language_info": {
   "codemirror_mode": {
    "name": "ipython",
    "version": 3
   },
   "file_extension": ".py",
   "mimetype": "text/x-python",
   "name": "python",
   "nbconvert_exporter": "python",
   "pygments_lexer": "ipython3",
   "version": "3.12.3"
  }
 },
 "nbformat": 4,
 "nbformat_minor": 5
}
